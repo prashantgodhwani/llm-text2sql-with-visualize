{
 "cells": [
  {
   "cell_type": "markdown",
   "id": "7d71991b-8076-4fc0-afb0-b174615bcaa9",
   "metadata": {},
   "source": [
    "### Imports"
   ]
  },
  {
   "cell_type": "code",
   "execution_count": 1,
   "id": "6254923a-a5cd-4274-b782-b846036732e0",
   "metadata": {
    "scrolled": true
   },
   "outputs": [
    {
     "name": "stdout",
     "output_type": "stream",
     "text": [
      "Requirement already satisfied: groq in c:\\users\\prash\\appdata\\local\\packages\\pythonsoftwarefoundation.python.3.11_qbz5n2kfra8p0\\localcache\\local-packages\\python311\\site-packages (0.8.0)\n",
      "Requirement already satisfied: e2b_code_interpreter in c:\\users\\prash\\appdata\\local\\packages\\pythonsoftwarefoundation.python.3.11_qbz5n2kfra8p0\\localcache\\local-packages\\python311\\site-packages (0.0.8)\n",
      "Requirement already satisfied: anyio<5,>=3.5.0 in c:\\users\\prash\\appdata\\local\\packages\\pythonsoftwarefoundation.python.3.11_qbz5n2kfra8p0\\localcache\\local-packages\\python311\\site-packages (from groq) (4.3.0)\n",
      "Requirement already satisfied: distro<2,>=1.7.0 in c:\\users\\prash\\appdata\\local\\packages\\pythonsoftwarefoundation.python.3.11_qbz5n2kfra8p0\\localcache\\local-packages\\python311\\site-packages (from groq) (1.9.0)\n",
      "Requirement already satisfied: httpx<1,>=0.23.0 in c:\\users\\prash\\appdata\\local\\packages\\pythonsoftwarefoundation.python.3.11_qbz5n2kfra8p0\\localcache\\local-packages\\python311\\site-packages (from groq) (0.27.0)\n",
      "Requirement already satisfied: pydantic<3,>=1.9.0 in c:\\users\\prash\\appdata\\local\\packages\\pythonsoftwarefoundation.python.3.11_qbz5n2kfra8p0\\localcache\\local-packages\\python311\\site-packages (from groq) (2.6.2)\n",
      "Requirement already satisfied: sniffio in c:\\users\\prash\\appdata\\local\\packages\\pythonsoftwarefoundation.python.3.11_qbz5n2kfra8p0\\localcache\\local-packages\\python311\\site-packages (from groq) (1.3.0)\n",
      "Requirement already satisfied: typing-extensions<5,>=4.7 in c:\\users\\prash\\appdata\\local\\packages\\pythonsoftwarefoundation.python.3.11_qbz5n2kfra8p0\\localcache\\local-packages\\python311\\site-packages (from groq) (4.9.0)\n",
      "Requirement already satisfied: e2b>=0.17.1 in c:\\users\\prash\\appdata\\local\\packages\\pythonsoftwarefoundation.python.3.11_qbz5n2kfra8p0\\localcache\\local-packages\\python311\\site-packages (from e2b_code_interpreter) (0.17.1)\n",
      "Requirement already satisfied: websocket-client<2.0.0,>=1.7.0 in c:\\users\\prash\\appdata\\local\\packages\\pythonsoftwarefoundation.python.3.11_qbz5n2kfra8p0\\localcache\\local-packages\\python311\\site-packages (from e2b_code_interpreter) (1.8.0)\n",
      "Requirement already satisfied: idna>=2.8 in c:\\users\\prash\\appdata\\local\\packages\\pythonsoftwarefoundation.python.3.11_qbz5n2kfra8p0\\localcache\\local-packages\\python311\\site-packages (from anyio<5,>=3.5.0->groq) (3.4)\n",
      "Requirement already satisfied: aenum>=3.1.11 in c:\\users\\prash\\appdata\\local\\packages\\pythonsoftwarefoundation.python.3.11_qbz5n2kfra8p0\\localcache\\local-packages\\python311\\site-packages (from e2b>=0.17.1->e2b_code_interpreter) (3.1.15)\n",
      "Requirement already satisfied: aiohttp>=3.8.4 in c:\\users\\prash\\appdata\\local\\packages\\pythonsoftwarefoundation.python.3.11_qbz5n2kfra8p0\\localcache\\local-packages\\python311\\site-packages (from e2b>=0.17.1->e2b_code_interpreter) (3.9.3)\n",
      "Requirement already satisfied: jsonrpcclient>=4.0.3 in c:\\users\\prash\\appdata\\local\\packages\\pythonsoftwarefoundation.python.3.11_qbz5n2kfra8p0\\localcache\\local-packages\\python311\\site-packages (from e2b>=0.17.1->e2b_code_interpreter) (4.0.3)\n",
      "Requirement already satisfied: python-dateutil>=2.8.2 in c:\\users\\prash\\appdata\\local\\packages\\pythonsoftwarefoundation.python.3.11_qbz5n2kfra8p0\\localcache\\local-packages\\python311\\site-packages (from e2b>=0.17.1->e2b_code_interpreter) (2.8.2)\n",
      "Requirement already satisfied: requests>=2.31.0 in c:\\users\\prash\\appdata\\local\\packages\\pythonsoftwarefoundation.python.3.11_qbz5n2kfra8p0\\localcache\\local-packages\\python311\\site-packages (from e2b>=0.17.1->e2b_code_interpreter) (2.31.0)\n",
      "Requirement already satisfied: urllib3>=1.25.3 in c:\\users\\prash\\appdata\\local\\packages\\pythonsoftwarefoundation.python.3.11_qbz5n2kfra8p0\\localcache\\local-packages\\python311\\site-packages (from e2b>=0.17.1->e2b_code_interpreter) (2.0.6)\n",
      "Requirement already satisfied: websockets>=11.0.3 in c:\\users\\prash\\appdata\\local\\packages\\pythonsoftwarefoundation.python.3.11_qbz5n2kfra8p0\\localcache\\local-packages\\python311\\site-packages (from e2b>=0.17.1->e2b_code_interpreter) (12.0)\n",
      "Requirement already satisfied: certifi in c:\\users\\prash\\appdata\\local\\packages\\pythonsoftwarefoundation.python.3.11_qbz5n2kfra8p0\\localcache\\local-packages\\python311\\site-packages (from httpx<1,>=0.23.0->groq) (2023.7.22)\n",
      "Requirement already satisfied: httpcore==1.* in c:\\users\\prash\\appdata\\local\\packages\\pythonsoftwarefoundation.python.3.11_qbz5n2kfra8p0\\localcache\\local-packages\\python311\\site-packages (from httpx<1,>=0.23.0->groq) (1.0.5)\n",
      "Requirement already satisfied: h11<0.15,>=0.13 in c:\\users\\prash\\appdata\\local\\packages\\pythonsoftwarefoundation.python.3.11_qbz5n2kfra8p0\\localcache\\local-packages\\python311\\site-packages (from httpcore==1.*->httpx<1,>=0.23.0->groq) (0.14.0)\n",
      "Requirement already satisfied: annotated-types>=0.4.0 in c:\\users\\prash\\appdata\\local\\packages\\pythonsoftwarefoundation.python.3.11_qbz5n2kfra8p0\\localcache\\local-packages\\python311\\site-packages (from pydantic<3,>=1.9.0->groq) (0.6.0)\n",
      "Requirement already satisfied: pydantic-core==2.16.3 in c:\\users\\prash\\appdata\\local\\packages\\pythonsoftwarefoundation.python.3.11_qbz5n2kfra8p0\\localcache\\local-packages\\python311\\site-packages (from pydantic<3,>=1.9.0->groq) (2.16.3)\n",
      "Requirement already satisfied: aiosignal>=1.1.2 in c:\\users\\prash\\appdata\\local\\packages\\pythonsoftwarefoundation.python.3.11_qbz5n2kfra8p0\\localcache\\local-packages\\python311\\site-packages (from aiohttp>=3.8.4->e2b>=0.17.1->e2b_code_interpreter) (1.3.1)\n",
      "Requirement already satisfied: attrs>=17.3.0 in c:\\users\\prash\\appdata\\local\\packages\\pythonsoftwarefoundation.python.3.11_qbz5n2kfra8p0\\localcache\\local-packages\\python311\\site-packages (from aiohttp>=3.8.4->e2b>=0.17.1->e2b_code_interpreter) (23.1.0)\n",
      "Requirement already satisfied: frozenlist>=1.1.1 in c:\\users\\prash\\appdata\\local\\packages\\pythonsoftwarefoundation.python.3.11_qbz5n2kfra8p0\\localcache\\local-packages\\python311\\site-packages (from aiohttp>=3.8.4->e2b>=0.17.1->e2b_code_interpreter) (1.4.1)\n",
      "Requirement already satisfied: multidict<7.0,>=4.5 in c:\\users\\prash\\appdata\\local\\packages\\pythonsoftwarefoundation.python.3.11_qbz5n2kfra8p0\\localcache\\local-packages\\python311\\site-packages (from aiohttp>=3.8.4->e2b>=0.17.1->e2b_code_interpreter) (6.0.5)\n",
      "Requirement already satisfied: yarl<2.0,>=1.0 in c:\\users\\prash\\appdata\\local\\packages\\pythonsoftwarefoundation.python.3.11_qbz5n2kfra8p0\\localcache\\local-packages\\python311\\site-packages (from aiohttp>=3.8.4->e2b>=0.17.1->e2b_code_interpreter) (1.9.4)\n",
      "Requirement already satisfied: six>=1.5 in c:\\users\\prash\\appdata\\local\\packages\\pythonsoftwarefoundation.python.3.11_qbz5n2kfra8p0\\localcache\\local-packages\\python311\\site-packages (from python-dateutil>=2.8.2->e2b>=0.17.1->e2b_code_interpreter) (1.16.0)\n",
      "Requirement already satisfied: charset-normalizer<4,>=2 in c:\\users\\prash\\appdata\\local\\packages\\pythonsoftwarefoundation.python.3.11_qbz5n2kfra8p0\\localcache\\local-packages\\python311\\site-packages (from requests>=2.31.0->e2b>=0.17.1->e2b_code_interpreter) (3.3.0)\n",
      "Note: you may need to restart the kernel to use updated packages.\n",
      "Requirement already satisfied: langchain-groq in c:\\users\\prash\\appdata\\local\\packages\\pythonsoftwarefoundation.python.3.11_qbz5n2kfra8p0\\localcache\\local-packages\\python311\\site-packages (0.1.5)\n",
      "Requirement already satisfied: groq<1,>=0.4.1 in c:\\users\\prash\\appdata\\local\\packages\\pythonsoftwarefoundation.python.3.11_qbz5n2kfra8p0\\localcache\\local-packages\\python311\\site-packages (from langchain-groq) (0.8.0)\n",
      "Requirement already satisfied: langchain-core<0.3,>=0.1.45 in c:\\users\\prash\\appdata\\local\\packages\\pythonsoftwarefoundation.python.3.11_qbz5n2kfra8p0\\localcache\\local-packages\\python311\\site-packages (from langchain-groq) (0.1.46)\n",
      "Requirement already satisfied: anyio<5,>=3.5.0 in c:\\users\\prash\\appdata\\local\\packages\\pythonsoftwarefoundation.python.3.11_qbz5n2kfra8p0\\localcache\\local-packages\\python311\\site-packages (from groq<1,>=0.4.1->langchain-groq) (4.3.0)\n",
      "Requirement already satisfied: distro<2,>=1.7.0 in c:\\users\\prash\\appdata\\local\\packages\\pythonsoftwarefoundation.python.3.11_qbz5n2kfra8p0\\localcache\\local-packages\\python311\\site-packages (from groq<1,>=0.4.1->langchain-groq) (1.9.0)\n",
      "Requirement already satisfied: httpx<1,>=0.23.0 in c:\\users\\prash\\appdata\\local\\packages\\pythonsoftwarefoundation.python.3.11_qbz5n2kfra8p0\\localcache\\local-packages\\python311\\site-packages (from groq<1,>=0.4.1->langchain-groq) (0.27.0)\n",
      "Requirement already satisfied: pydantic<3,>=1.9.0 in c:\\users\\prash\\appdata\\local\\packages\\pythonsoftwarefoundation.python.3.11_qbz5n2kfra8p0\\localcache\\local-packages\\python311\\site-packages (from groq<1,>=0.4.1->langchain-groq) (2.6.2)\n",
      "Requirement already satisfied: sniffio in c:\\users\\prash\\appdata\\local\\packages\\pythonsoftwarefoundation.python.3.11_qbz5n2kfra8p0\\localcache\\local-packages\\python311\\site-packages (from groq<1,>=0.4.1->langchain-groq) (1.3.0)\n",
      "Requirement already satisfied: typing-extensions<5,>=4.7 in c:\\users\\prash\\appdata\\local\\packages\\pythonsoftwarefoundation.python.3.11_qbz5n2kfra8p0\\localcache\\local-packages\\python311\\site-packages (from groq<1,>=0.4.1->langchain-groq) (4.9.0)\n",
      "Requirement already satisfied: PyYAML>=5.3 in c:\\users\\prash\\appdata\\local\\packages\\pythonsoftwarefoundation.python.3.11_qbz5n2kfra8p0\\localcache\\local-packages\\python311\\site-packages (from langchain-core<0.3,>=0.1.45->langchain-groq) (6.0.1)\n",
      "Requirement already satisfied: jsonpatch<2.0,>=1.33 in c:\\users\\prash\\appdata\\local\\packages\\pythonsoftwarefoundation.python.3.11_qbz5n2kfra8p0\\localcache\\local-packages\\python311\\site-packages (from langchain-core<0.3,>=0.1.45->langchain-groq) (1.33)\n",
      "Requirement already satisfied: langsmith<0.2.0,>=0.1.0 in c:\\users\\prash\\appdata\\local\\packages\\pythonsoftwarefoundation.python.3.11_qbz5n2kfra8p0\\localcache\\local-packages\\python311\\site-packages (from langchain-core<0.3,>=0.1.45->langchain-groq) (0.1.51)\n",
      "Requirement already satisfied: packaging<24.0,>=23.2 in c:\\users\\prash\\appdata\\local\\packages\\pythonsoftwarefoundation.python.3.11_qbz5n2kfra8p0\\localcache\\local-packages\\python311\\site-packages (from langchain-core<0.3,>=0.1.45->langchain-groq) (23.2)\n",
      "Requirement already satisfied: tenacity<9.0.0,>=8.1.0 in c:\\users\\prash\\appdata\\local\\packages\\pythonsoftwarefoundation.python.3.11_qbz5n2kfra8p0\\localcache\\local-packages\\python311\\site-packages (from langchain-core<0.3,>=0.1.45->langchain-groq) (8.2.3)\n",
      "Requirement already satisfied: idna>=2.8 in c:\\users\\prash\\appdata\\local\\packages\\pythonsoftwarefoundation.python.3.11_qbz5n2kfra8p0\\localcache\\local-packages\\python311\\site-packages (from anyio<5,>=3.5.0->groq<1,>=0.4.1->langchain-groq) (3.4)\n",
      "Requirement already satisfied: certifi in c:\\users\\prash\\appdata\\local\\packages\\pythonsoftwarefoundation.python.3.11_qbz5n2kfra8p0\\localcache\\local-packages\\python311\\site-packages (from httpx<1,>=0.23.0->groq<1,>=0.4.1->langchain-groq) (2023.7.22)\n",
      "Requirement already satisfied: httpcore==1.* in c:\\users\\prash\\appdata\\local\\packages\\pythonsoftwarefoundation.python.3.11_qbz5n2kfra8p0\\localcache\\local-packages\\python311\\site-packages (from httpx<1,>=0.23.0->groq<1,>=0.4.1->langchain-groq) (1.0.5)\n",
      "Requirement already satisfied: h11<0.15,>=0.13 in c:\\users\\prash\\appdata\\local\\packages\\pythonsoftwarefoundation.python.3.11_qbz5n2kfra8p0\\localcache\\local-packages\\python311\\site-packages (from httpcore==1.*->httpx<1,>=0.23.0->groq<1,>=0.4.1->langchain-groq) (0.14.0)\n",
      "Requirement already satisfied: jsonpointer>=1.9 in c:\\users\\prash\\appdata\\local\\packages\\pythonsoftwarefoundation.python.3.11_qbz5n2kfra8p0\\localcache\\local-packages\\python311\\site-packages (from jsonpatch<2.0,>=1.33->langchain-core<0.3,>=0.1.45->langchain-groq) (2.4)\n",
      "Requirement already satisfied: orjson<4.0.0,>=3.9.14 in c:\\users\\prash\\appdata\\local\\packages\\pythonsoftwarefoundation.python.3.11_qbz5n2kfra8p0\\localcache\\local-packages\\python311\\site-packages (from langsmith<0.2.0,>=0.1.0->langchain-core<0.3,>=0.1.45->langchain-groq) (3.9.15)\n",
      "Requirement already satisfied: requests<3,>=2 in c:\\users\\prash\\appdata\\local\\packages\\pythonsoftwarefoundation.python.3.11_qbz5n2kfra8p0\\localcache\\local-packages\\python311\\site-packages (from langsmith<0.2.0,>=0.1.0->langchain-core<0.3,>=0.1.45->langchain-groq) (2.31.0)\n",
      "Requirement already satisfied: annotated-types>=0.4.0 in c:\\users\\prash\\appdata\\local\\packages\\pythonsoftwarefoundation.python.3.11_qbz5n2kfra8p0\\localcache\\local-packages\\python311\\site-packages (from pydantic<3,>=1.9.0->groq<1,>=0.4.1->langchain-groq) (0.6.0)\n",
      "Requirement already satisfied: pydantic-core==2.16.3 in c:\\users\\prash\\appdata\\local\\packages\\pythonsoftwarefoundation.python.3.11_qbz5n2kfra8p0\\localcache\\local-packages\\python311\\site-packages (from pydantic<3,>=1.9.0->groq<1,>=0.4.1->langchain-groq) (2.16.3)\n",
      "Requirement already satisfied: charset-normalizer<4,>=2 in c:\\users\\prash\\appdata\\local\\packages\\pythonsoftwarefoundation.python.3.11_qbz5n2kfra8p0\\localcache\\local-packages\\python311\\site-packages (from requests<3,>=2->langsmith<0.2.0,>=0.1.0->langchain-core<0.3,>=0.1.45->langchain-groq) (3.3.0)\n",
      "Requirement already satisfied: urllib3<3,>=1.21.1 in c:\\users\\prash\\appdata\\local\\packages\\pythonsoftwarefoundation.python.3.11_qbz5n2kfra8p0\\localcache\\local-packages\\python311\\site-packages (from requests<3,>=2->langsmith<0.2.0,>=0.1.0->langchain-core<0.3,>=0.1.45->langchain-groq) (2.0.6)\n",
      "Note: you may need to restart the kernel to use updated packages.\n"
     ]
    }
   ],
   "source": [
    "%pip install groq e2b_code_interpreter\n",
    "%pip install langchain-groq"
   ]
  },
  {
   "cell_type": "code",
   "execution_count": 3,
   "id": "f52a88dc-03db-4ffd-bb45-005b01757318",
   "metadata": {},
   "outputs": [],
   "source": [
    "import pandas as pd\n",
    "import os\n",
    "import json\n",
    "import re\n",
    "from groq import Groq\n",
    "from e2b_code_interpreter import CodeInterpreter"
   ]
  },
  {
   "cell_type": "markdown",
   "id": "2b905139-9ff9-4088-9c6a-2405cddbf025",
   "metadata": {},
   "source": [
    "### Read CSVs"
   ]
  },
  {
   "cell_type": "code",
   "execution_count": 4,
   "id": "76d7dfd0-92c6-4823-b2c5-f0bb72478b8c",
   "metadata": {},
   "outputs": [],
   "source": [
    "data = pd.read_csv(\"data/train_titanic.csv\")"
   ]
  },
  {
   "cell_type": "code",
   "execution_count": 5,
   "id": "5342c6b8-46d1-4e6e-9791-76bb465824d9",
   "metadata": {},
   "outputs": [
    {
     "data": {
      "text/html": [
       "<div>\n",
       "<style scoped>\n",
       "    .dataframe tbody tr th:only-of-type {\n",
       "        vertical-align: middle;\n",
       "    }\n",
       "\n",
       "    .dataframe tbody tr th {\n",
       "        vertical-align: top;\n",
       "    }\n",
       "\n",
       "    .dataframe thead th {\n",
       "        text-align: right;\n",
       "    }\n",
       "</style>\n",
       "<table border=\"1\" class=\"dataframe\">\n",
       "  <thead>\n",
       "    <tr style=\"text-align: right;\">\n",
       "      <th></th>\n",
       "      <th>PassengerId</th>\n",
       "      <th>Survived</th>\n",
       "      <th>Pclass</th>\n",
       "      <th>Name</th>\n",
       "      <th>Sex</th>\n",
       "      <th>Age</th>\n",
       "      <th>SibSp</th>\n",
       "      <th>Parch</th>\n",
       "      <th>Ticket</th>\n",
       "      <th>Fare</th>\n",
       "      <th>Cabin</th>\n",
       "      <th>Embarked</th>\n",
       "    </tr>\n",
       "  </thead>\n",
       "  <tbody>\n",
       "    <tr>\n",
       "      <th>0</th>\n",
       "      <td>1</td>\n",
       "      <td>0</td>\n",
       "      <td>3</td>\n",
       "      <td>Braund, Mr. Owen Harris</td>\n",
       "      <td>male</td>\n",
       "      <td>22.0</td>\n",
       "      <td>1</td>\n",
       "      <td>0</td>\n",
       "      <td>A/5 21171</td>\n",
       "      <td>7.2500</td>\n",
       "      <td>NaN</td>\n",
       "      <td>S</td>\n",
       "    </tr>\n",
       "    <tr>\n",
       "      <th>1</th>\n",
       "      <td>2</td>\n",
       "      <td>1</td>\n",
       "      <td>1</td>\n",
       "      <td>Cumings, Mrs. John Bradley (Florence Briggs Th...</td>\n",
       "      <td>female</td>\n",
       "      <td>38.0</td>\n",
       "      <td>1</td>\n",
       "      <td>0</td>\n",
       "      <td>PC 17599</td>\n",
       "      <td>71.2833</td>\n",
       "      <td>C85</td>\n",
       "      <td>C</td>\n",
       "    </tr>\n",
       "    <tr>\n",
       "      <th>2</th>\n",
       "      <td>3</td>\n",
       "      <td>1</td>\n",
       "      <td>3</td>\n",
       "      <td>Heikkinen, Miss. Laina</td>\n",
       "      <td>female</td>\n",
       "      <td>26.0</td>\n",
       "      <td>0</td>\n",
       "      <td>0</td>\n",
       "      <td>STON/O2. 3101282</td>\n",
       "      <td>7.9250</td>\n",
       "      <td>NaN</td>\n",
       "      <td>S</td>\n",
       "    </tr>\n",
       "    <tr>\n",
       "      <th>3</th>\n",
       "      <td>4</td>\n",
       "      <td>1</td>\n",
       "      <td>1</td>\n",
       "      <td>Futrelle, Mrs. Jacques Heath (Lily May Peel)</td>\n",
       "      <td>female</td>\n",
       "      <td>35.0</td>\n",
       "      <td>1</td>\n",
       "      <td>0</td>\n",
       "      <td>113803</td>\n",
       "      <td>53.1000</td>\n",
       "      <td>C123</td>\n",
       "      <td>S</td>\n",
       "    </tr>\n",
       "    <tr>\n",
       "      <th>4</th>\n",
       "      <td>5</td>\n",
       "      <td>0</td>\n",
       "      <td>3</td>\n",
       "      <td>Allen, Mr. William Henry</td>\n",
       "      <td>male</td>\n",
       "      <td>35.0</td>\n",
       "      <td>0</td>\n",
       "      <td>0</td>\n",
       "      <td>373450</td>\n",
       "      <td>8.0500</td>\n",
       "      <td>NaN</td>\n",
       "      <td>S</td>\n",
       "    </tr>\n",
       "  </tbody>\n",
       "</table>\n",
       "</div>"
      ],
      "text/plain": [
       "   PassengerId  Survived  Pclass  \\\n",
       "0            1         0       3   \n",
       "1            2         1       1   \n",
       "2            3         1       3   \n",
       "3            4         1       1   \n",
       "4            5         0       3   \n",
       "\n",
       "                                                Name     Sex   Age  SibSp  \\\n",
       "0                            Braund, Mr. Owen Harris    male  22.0      1   \n",
       "1  Cumings, Mrs. John Bradley (Florence Briggs Th...  female  38.0      1   \n",
       "2                             Heikkinen, Miss. Laina  female  26.0      0   \n",
       "3       Futrelle, Mrs. Jacques Heath (Lily May Peel)  female  35.0      1   \n",
       "4                           Allen, Mr. William Henry    male  35.0      0   \n",
       "\n",
       "   Parch            Ticket     Fare Cabin Embarked  \n",
       "0      0         A/5 21171   7.2500   NaN        S  \n",
       "1      0          PC 17599  71.2833   C85        C  \n",
       "2      0  STON/O2. 3101282   7.9250   NaN        S  \n",
       "3      0            113803  53.1000  C123        S  \n",
       "4      0            373450   8.0500   NaN        S  "
      ]
     },
     "execution_count": 5,
     "metadata": {},
     "output_type": "execute_result"
    }
   ],
   "source": [
    "data.head()"
   ]
  },
  {
   "cell_type": "code",
   "execution_count": 6,
   "id": "8df8d08f-67a2-4194-8ec5-9967a44f9437",
   "metadata": {},
   "outputs": [
    {
     "data": {
      "text/plain": [
       "(891,\n",
       " PassengerId      int64\n",
       " Survived         int64\n",
       " Pclass           int64\n",
       " Name            object\n",
       " Sex             object\n",
       " Age            float64\n",
       " SibSp            int64\n",
       " Parch            int64\n",
       " Ticket          object\n",
       " Fare           float64\n",
       " Cabin           object\n",
       " Embarked        object\n",
       " dtype: object)"
      ]
     },
     "execution_count": 6,
     "metadata": {},
     "output_type": "execute_result"
    }
   ],
   "source": [
    "len(data), data.dtypes"
   ]
  },
  {
   "cell_type": "markdown",
   "id": "b3950372-5668-46c3-baf7-1a3a7e7cd5fe",
   "metadata": {},
   "source": [
    "### Convert DataFrame to SQLite Database"
   ]
  },
  {
   "cell_type": "code",
   "execution_count": 7,
   "id": "3d33c35b-a049-4097-9ee0-b47c934b1ee3",
   "metadata": {},
   "outputs": [],
   "source": [
    "from sqlite3 import connect"
   ]
  },
  {
   "cell_type": "code",
   "execution_count": 8,
   "id": "00b996e0-e3be-4fe4-80e9-4749421e2976",
   "metadata": {},
   "outputs": [
    {
     "data": {
      "text/plain": [
       "891"
      ]
     },
     "execution_count": 8,
     "metadata": {},
     "output_type": "execute_result"
    }
   ],
   "source": [
    "con = connect('titanic.db')\n",
    "data.to_sql('Passenger Data', con, if_exists = 'replace')"
   ]
  },
  {
   "cell_type": "code",
   "execution_count": 9,
   "id": "2df8a631-25d6-48f8-a066-f5e370fa7106",
   "metadata": {},
   "outputs": [],
   "source": [
    "from langchain_community.utilities import SQLDatabase"
   ]
  },
  {
   "cell_type": "code",
   "execution_count": 10,
   "id": "59a1a7d6-5b13-44ae-bce2-cac31a37e07b",
   "metadata": {},
   "outputs": [
    {
     "data": {
      "text/plain": [
       "'sqlite'"
      ]
     },
     "execution_count": 10,
     "metadata": {},
     "output_type": "execute_result"
    }
   ],
   "source": [
    "db = SQLDatabase.from_uri('sqlite:///titanic.db', sample_rows_in_table_info = 3)\n",
    "db.dialect"
   ]
  },
  {
   "cell_type": "code",
   "execution_count": 11,
   "id": "11370caa-5c52-408e-8fc9-b8e5bd3580b3",
   "metadata": {},
   "outputs": [
    {
     "data": {
      "text/plain": [
       "'\\nCREATE TABLE \"Passenger Data\" (\\n\\t\"index\" INTEGER, \\n\\t\"PassengerId\" INTEGER, \\n\\t\"Survived\" INTEGER, \\n\\t\"Pclass\" INTEGER, \\n\\t\"Name\" TEXT, \\n\\t\"Sex\" TEXT, \\n\\t\"Age\" REAL, \\n\\t\"SibSp\" INTEGER, \\n\\t\"Parch\" INTEGER, \\n\\t\"Ticket\" TEXT, \\n\\t\"Fare\" REAL, \\n\\t\"Cabin\" TEXT, \\n\\t\"Embarked\" TEXT\\n)\\n\\n/*\\n3 rows from Passenger Data table:\\nindex\\tPassengerId\\tSurvived\\tPclass\\tName\\tSex\\tAge\\tSibSp\\tParch\\tTicket\\tFare\\tCabin\\tEmbarked\\n0\\t1\\t0\\t3\\tBraund, Mr. Owen Harris\\tmale\\t22.0\\t1\\t0\\tA/5 21171\\t7.25\\tNone\\tS\\n1\\t2\\t1\\t1\\tCumings, Mrs. John Bradley (Florence Briggs Thayer)\\tfemale\\t38.0\\t1\\t0\\tPC 17599\\t71.2833\\tC85\\tC\\n2\\t3\\t1\\t3\\tHeikkinen, Miss. Laina\\tfemale\\t26.0\\t0\\t0\\tSTON/O2. 3101282\\t7.925\\tNone\\tS\\n*/'"
      ]
     },
     "execution_count": 11,
     "metadata": {},
     "output_type": "execute_result"
    }
   ],
   "source": [
    "db.table_info"
   ]
  },
  {
   "cell_type": "markdown",
   "id": "31cd0b17-6c72-40b8-9aac-02bc69f4e1c9",
   "metadata": {},
   "source": [
    "### Initialize Language Model from Llama3"
   ]
  },
  {
   "cell_type": "code",
   "execution_count": 12,
   "id": "7d330ae1-1adb-4a5d-a54c-78588ed32212",
   "metadata": {},
   "outputs": [],
   "source": [
    "import os"
   ]
  },
  {
   "cell_type": "code",
   "execution_count": 14,
   "id": "e5ae0ae7-2fe6-45cc-8140-326b57c25ca3",
   "metadata": {},
   "outputs": [],
   "source": [
    "from langchain_core.prompts import PromptTemplate\n",
    "\n",
    "template = '''Given an input question, first create a syntactically correct {dialect} query to run. Dont Use {top_k} anywhere in the query. \n",
    "JUST RETURN THE QUERY, DON'T RETURN ANYTHING ELSE IN THE RESPONSE.\n",
    "Return based on the following format:\n",
    "\n",
    "SQL Query to run\n",
    "\n",
    "Only use the following tables:\n",
    "\n",
    "{table_info}.\n",
    "\n",
    "Question: {input}'''\n",
    "prompt = PromptTemplate.from_template(template)"
   ]
  },
  {
   "cell_type": "markdown",
   "id": "124f58bc-beec-4933-80ad-037d4dfdbcf8",
   "metadata": {},
   "source": [
    "### Generate Query Chain using Groq llama3-70b-8192"
   ]
  },
  {
   "cell_type": "code",
   "execution_count": 15,
   "id": "f55778c0-dfa0-4fdb-b2ed-95362202e5a1",
   "metadata": {},
   "outputs": [],
   "source": [
    "# TODO: Get your Groq AI API key from https://console.groq.com/\n",
    "GROQ_API_KEY = \"\"\n",
    "\n",
    "# TODO: Get your E2B API key from https://e2b.dev/docs\n",
    "E2B_API_KEY = \"\"\n",
    "\n",
    "# Or use 8b version\n",
    "# MODEL_NAME = \"llama3-8b-8192\"\n",
    "MODEL_NAME = \"llama3-70b-8192\""
   ]
  },
  {
   "cell_type": "code",
   "execution_count": 16,
   "id": "34bcb1a7-88a4-427b-a2fe-5b68aa30917f",
   "metadata": {},
   "outputs": [],
   "source": [
    "### Retrieval Grader \n",
    "from langchain.chains import create_sql_query_chain\n",
    "from langchain_community.chat_models import ChatOllama\n",
    "from langchain_groq import ChatGroq\n",
    "\n",
    "# LLM\n",
    "llm = ChatGroq(model=MODEL_NAME, temperature=0, groq_api_key=GROQ_API_KEY)\n",
    "generate_query = create_sql_query_chain(llm, db, prompt)                           "
   ]
  },
  {
   "cell_type": "markdown",
   "id": "7cba5d4d-b6ea-497e-bed3-8bfd702fcad4",
   "metadata": {},
   "source": [
    "### Generate query based on prompt"
   ]
  },
  {
   "cell_type": "code",
   "execution_count": 17,
   "id": "f3378eee-56ae-4aab-b21a-acee68eddac1",
   "metadata": {},
   "outputs": [
    {
     "name": "stdout",
     "output_type": "stream",
     "text": [
      "SELECT Pclass, COUNT(*) as SurvivedCount \n",
      "FROM \"Passenger Data\" \n",
      "WHERE Survived = 1 \n",
      "GROUP BY Pclass\n"
     ]
    }
   ],
   "source": [
    "query = generate_query.invoke({\"question\": \"count of people who survived in each class\"})\n",
    "print(query)"
   ]
  },
  {
   "cell_type": "markdown",
   "id": "0985de39-d876-47d1-8733-099a5942204b",
   "metadata": {},
   "source": [
    "### Get response from query (Manual Query)"
   ]
  },
  {
   "cell_type": "code",
   "execution_count": 20,
   "id": "caa9444e-d07c-4e59-b4f0-7715315c0659",
   "metadata": {},
   "outputs": [
    {
     "data": {
      "text/html": [
       "<div>\n",
       "<style scoped>\n",
       "    .dataframe tbody tr th:only-of-type {\n",
       "        vertical-align: middle;\n",
       "    }\n",
       "\n",
       "    .dataframe tbody tr th {\n",
       "        vertical-align: top;\n",
       "    }\n",
       "\n",
       "    .dataframe thead th {\n",
       "        text-align: right;\n",
       "    }\n",
       "</style>\n",
       "<table border=\"1\" class=\"dataframe\">\n",
       "  <thead>\n",
       "    <tr style=\"text-align: right;\">\n",
       "      <th></th>\n",
       "      <th>Pclass</th>\n",
       "      <th>SurvivedCount</th>\n",
       "    </tr>\n",
       "  </thead>\n",
       "  <tbody>\n",
       "    <tr>\n",
       "      <th>0</th>\n",
       "      <td>1</td>\n",
       "      <td>136</td>\n",
       "    </tr>\n",
       "    <tr>\n",
       "      <th>1</th>\n",
       "      <td>2</td>\n",
       "      <td>87</td>\n",
       "    </tr>\n",
       "    <tr>\n",
       "      <th>2</th>\n",
       "      <td>3</td>\n",
       "      <td>119</td>\n",
       "    </tr>\n",
       "  </tbody>\n",
       "</table>\n",
       "</div>"
      ],
      "text/plain": [
       "   Pclass  SurvivedCount\n",
       "0       1            136\n",
       "1       2             87\n",
       "2       3            119"
      ]
     },
     "execution_count": 20,
     "metadata": {},
     "output_type": "execute_result"
    }
   ],
   "source": [
    "query_cursor = con.cursor().execute(query)\n",
    "cols = [column[0] for column in query_cursor.description]\n",
    "query_response = query_cursor.fetchall()\n",
    "pd.DataFrame.from_records(data = query_response, columns = cols)"
   ]
  },
  {
   "cell_type": "markdown",
   "id": "d6a528d9-0e2a-43de-8c5b-16c3753cea49",
   "metadata": {},
   "source": [
    "### Query SQL Database Tool (Langchain Chain)"
   ]
  },
  {
   "cell_type": "code",
   "execution_count": 18,
   "id": "5f08df25-863d-4652-83d2-1c37fc62efee",
   "metadata": {},
   "outputs": [],
   "source": [
    "from langchain_community.tools.sql_database.tool import QuerySQLDataBaseTool\n",
    "execute_query = QuerySQLDataBaseTool(db=db)"
   ]
  },
  {
   "cell_type": "code",
   "execution_count": 19,
   "id": "a524619d-5487-4f90-a737-f36df2d0113a",
   "metadata": {},
   "outputs": [],
   "source": [
    "def modify_query(query_dict):\n",
    "    original_query = query_dict.get(\"query\", \"\")\n",
    "    modified_query = original_query.split(\"SQLQuery:\")[-1]\n",
    "    query_dict[\"query\"] = modified_query\n",
    "    return query_dict"
   ]
  },
  {
   "cell_type": "markdown",
   "id": "7457e00d-c22b-4679-855e-a0da0bd96903",
   "metadata": {},
   "source": [
    "### Dynamic Table Selection based on Metadata"
   ]
  },
  {
   "cell_type": "code",
   "execution_count": 20,
   "id": "90b4c906-c1b0-47c6-8b11-da7075d968f3",
   "metadata": {},
   "outputs": [
    {
     "data": {
      "text/plain": [
       "'Table Name:Passenger Data\\nTable Description:survival\\tSurvival\\t0 = No, 1 = Yes\\r\\npclass\\tTicket class\\t1 = 1st, 2 = 2nd, 3 = 3rd\\r\\nsex\\tSex\\t\\r\\nAge\\tAge in years\\t\\r\\nsibsp\\t# of siblings / spouses aboard the Titanic\\t\\r\\nparch\\t# of parents / children aboard the Titanic\\t\\r\\nticket\\tTicket number\\t\\r\\nfare\\tPassenger fare\\t\\r\\ncabin\\tCabin number\\t\\r\\nembarked\\tPort of Embarkation\\tC = Cherbourg, Q = Queenstown, S = Southampton\\n\\n'"
      ]
     },
     "execution_count": 20,
     "metadata": {},
     "output_type": "execute_result"
    }
   ],
   "source": [
    "from operator import itemgetter\n",
    "from langchain.chains.openai_tools import create_extraction_chain_pydantic\n",
    "from langchain_core.pydantic_v1 import BaseModel, Field\n",
    "from typing import List\n",
    "import pandas as pd\n",
    "\n",
    "def get_table_details():\n",
    "    # Read the CSV file into a DataFrame\n",
    "    table_description = pd.read_csv(\"data/database_tables.csv\")\n",
    "    table_docs = []\n",
    "\n",
    "    # Iterate over the DataFrame rows to create Document objects\n",
    "    table_details = \"\"\n",
    "    for index, row in table_description.iterrows():\n",
    "        table_details = table_details + \"Table Name:\" + row['Table'] + \"\\n\" + \"Table Description:\" + row['Description'] + \"\\n\\n\"\n",
    "\n",
    "    return table_details\n",
    "\n",
    "\n",
    "class Table(BaseModel):\n",
    "    \"\"\"Table in SQL database.\"\"\"\n",
    "    name: str = Field(description=\"Name of table in SQL database.\")\n",
    "\n",
    "# table_names = \"\\n\".join(db.get_usable_table_names())\n",
    "table_details = get_table_details()\n",
    "table_details"
   ]
  },
  {
   "cell_type": "code",
   "execution_count": 21,
   "id": "2f5a27f3-157d-41f9-9deb-95158a5acf30",
   "metadata": {
    "scrolled": true
   },
   "outputs": [
    {
     "data": {
      "text/plain": [
       "[Table(name='Passenger Data')]"
      ]
     },
     "execution_count": 21,
     "metadata": {},
     "output_type": "execute_result"
    }
   ],
   "source": [
    "table_details_prompt = f\"\"\"Return the names of ALL the SQL tables that MIGHT be relevant to the user question. \\\n",
    "The tables are:\n",
    "\n",
    "{table_details}\n",
    "\n",
    "Remember to include ALL POTENTIALLY RELEVANT tables, even if you're not sure that they're needed.\"\"\"\n",
    "\n",
    "table_chain = create_extraction_chain_pydantic(Table, llm, system_message=table_details_prompt)\n",
    "tables = table_chain.invoke({\"input\": \"give me details of customer who travlled in 1st class\"})\n",
    "tables"
   ]
  },
  {
   "cell_type": "markdown",
   "id": "a272c535-2c2d-4af9-9947-c6fb28d43ef4",
   "metadata": {},
   "source": [
    "### Dynamic few-shot example selection"
   ]
  },
  {
   "cell_type": "code",
   "execution_count": 22,
   "id": "376ef27a-2865-4574-9c69-efca97a3e15e",
   "metadata": {},
   "outputs": [],
   "source": [
    "examples = [\n",
    "    {\n",
    "        \"input\": \"List all passengers who survived.\",\n",
    "        \"query\": \"SELECT * FROM titanic WHERE survived = 1;\"\n",
    "    },\n",
    "    {\n",
    "        \"input\": \"Count the number of passengers who were in first class.\",\n",
    "        \"query\": \"SELECT COUNT(*) FROM titanic WHERE pclass = 1;\"\n",
    "    },\n",
    "    {\n",
    "        \"input\": \"Get the average age of passengers.\",\n",
    "        \"query\": \"SELECT AVG(age) FROM titanic;\"\n",
    "    },\n",
    "    {\n",
    "        \"input\": \"Find the name and age of the oldest passenger.\",\n",
    "        \"query\": \"SELECT name, age FROM titanic ORDER BY age DESC LIMIT 1;\"\n",
    "    },\n",
    "    {\n",
    "        \"input\": \"List all passengers who were traveling with family.\",\n",
    "        \"query\": \"SELECT * FROM titanic WHERE parch > 0 OR sibsp > 0;\"\n",
    "    },\n",
    "    {\n",
    "        \"input\": \"Count the number of male passengers.\",\n",
    "        \"query\": \"SELECT COUNT(*) FROM titanic WHERE sex = 'male';\"\n",
    "    },\n",
    "    {\n",
    "        \"input\": \"Find the passenger with the highest fare.\",\n",
    "        \"query\": \"SELECT * FROM titanic ORDER BY fare DESC LIMIT 1;\"\n",
    "    },\n",
    "    {\n",
    "        \"input\": \"List passengers who embarked from Southampton.\",\n",
    "        \"query\": \"SELECT * FROM titanic WHERE embarked = 'S';\"\n",
    "    },\n",
    "    {\n",
    "        \"input\": \"Count the number of passengers who survived from each class.\",\n",
    "        \"query\": \"SELECT pclass, COUNT(*) FROM titanic WHERE survived = 1 GROUP BY pclass;\"\n",
    "    },\n",
    "    {\n",
    "        \"input\": \"Find the average fare for passengers who survived.\",\n",
    "        \"query\": \"SELECT AVG(fare) FROM titanic WHERE survived = 1;\"\n",
    "    },\n",
    "    {\n",
    "        \"input\": \"List passengers with missing values in the 'age' column.\",\n",
    "        \"query\": \"SELECT * FROM titanic WHERE age IS NULL;\"\n",
    "    },\n",
    "    {\n",
    "        \"input\": \"Count the number of passengers with siblings or spouses aboard.\",\n",
    "        \"query\": \"SELECT COUNT(*) FROM titanic WHERE sibsp > 0;\"\n",
    "    },\n",
    "    {\n",
    "        \"input\": \"Find the name and fare of the passenger with the lowest fare.\",\n",
    "        \"query\": \"SELECT name, fare FROM titanic ORDER BY fare ASC LIMIT 1;\"\n",
    "    },\n",
    "    {\n",
    "        \"input\": \"List passengers who paid more than $100 for their ticket.\",\n",
    "        \"query\": \"SELECT * FROM titanic WHERE fare > 100;\"\n",
    "    },\n",
    "    {\n",
    "        \"input\": \"Count the number of passengers who survived with at least one parent or child aboard.\",\n",
    "        \"query\": \"SELECT COUNT(*) FROM titanic WHERE survived = 1 AND (parch > 0 OR sibsp > 0);\"\n",
    "    },\n",
    "    {\n",
    "        \"input\": \"Find the average age of passengers who did not survive.\",\n",
    "        \"query\": \"SELECT AVG(age) FROM titanic WHERE survived = 0;\"\n",
    "    },\n",
    "    {\n",
    "        \"input\": \"List passengers who paid an even fare.\",\n",
    "        \"query\": \"SELECT * FROM titanic WHERE MOD(fare, 2) = 0;\"\n",
    "    },\n",
    "    {\n",
    "        \"input\": \"Count the number of passengers who embarked from each port.\",\n",
    "        \"query\": \"SELECT embarked, COUNT(*) FROM titanic GROUP BY embarked;\"\n",
    "    },\n",
    "    {\n",
    "        \"input\": \"Find the name and age of the youngest passenger who survived.\",\n",
    "        \"query\": \"SELECT name, age FROM titanic WHERE survived = 1 ORDER BY age ASC LIMIT 1;\"\n",
    "    },\n",
    "    {\n",
    "        \"input\": \"List passengers with a cabin number starting with 'C'.\",\n",
    "        \"query\": \"SELECT * FROM titanic WHERE cabin LIKE 'C%';\"\n",
    "    }\n",
    "]\n"
   ]
  },
  {
   "cell_type": "code",
   "execution_count": 23,
   "id": "b9ff0f97-1b09-4f18-b6f6-2bdfcfa9d142",
   "metadata": {},
   "outputs": [],
   "source": [
    "from langchain_community.vectorstores import Chroma\n",
    "from langchain_core.example_selectors import SemanticSimilarityExampleSelector\n",
    "from langchain.embeddings import HuggingFaceEmbeddings\n",
    "\n",
    "vectorstore = Chroma()\n",
    "vectorstore.delete_collection()\n",
    "example_selector = SemanticSimilarityExampleSelector.from_examples(\n",
    "     examples,\n",
    "     HuggingFaceEmbeddings(),\n",
    "     vectorstore,\n",
    "     k=2,\n",
    "     input_keys=[\"input\"],\n",
    " )"
   ]
  },
  {
   "cell_type": "code",
   "execution_count": 24,
   "id": "c915c331-4786-4a77-af32-40124bd02194",
   "metadata": {},
   "outputs": [],
   "source": [
    "from langchain_core.prompts import ChatPromptTemplate, FewShotChatMessagePromptTemplate\n",
    "\n",
    "example_prompt = ChatPromptTemplate.from_messages(\n",
    "     [\n",
    "         (\"human\", \"{input}\\nSQLQuery:\"),\n",
    "         (\"ai\", \"{query}\"),\n",
    "     ]\n",
    " )\n",
    "\n",
    "few_shot_prompt = FewShotChatMessagePromptTemplate(\n",
    "     example_prompt=example_prompt,\n",
    "     example_selector=example_selector,\n",
    "     input_variables=[\"input\",\"top_k\"],\n",
    " )"
   ]
  },
  {
   "cell_type": "code",
   "execution_count": 25,
   "id": "8ee0a20b-ca39-413b-827c-4acc6cc21ab2",
   "metadata": {},
   "outputs": [],
   "source": [
    "final_prompt = ChatPromptTemplate.from_messages(\n",
    "     [\n",
    "         (\"system\", \"You are a MySQL expert. Given an input question, create a syntactically correct MySQL query to run. Unless otherwise specificed.\\n\\nHere is the relevant table info: {table_info}\\n\\nBelow are a number of examples of questions and their corresponding SQL queries.\"),\n",
    "         few_shot_prompt,\n",
    "         (\"human\", \"{input}\"),\n",
    "     ]\n",
    " )"
   ]
  },
  {
   "cell_type": "code",
   "execution_count": 26,
   "id": "3e996a69-dc39-4208-b762-2d2136c5024d",
   "metadata": {
    "scrolled": true
   },
   "outputs": [
    {
     "data": {
      "text/plain": [
       "\"System: You are a MySQL expert. Given an input question, create a syntactically correct MySQL query to run. Unless otherwise specificed.\\n\\nHere is the relevant table info: [Table(name='Passenger Data')]\\n\\nBelow are a number of examples of questions and their corresponding SQL queries.\\nHuman: List all passengers who survived.\\nSQLQuery:\\nAI: SELECT * FROM titanic WHERE survived = 1;\\nHuman: Count the number of passengers who were in first class.\\nSQLQuery:\\nAI: SELECT COUNT(*) FROM titanic WHERE pclass = 1;\\nHuman: How many people who travelled in 1st class did not survive?\""
      ]
     },
     "execution_count": 26,
     "metadata": {},
     "output_type": "execute_result"
    }
   ],
   "source": [
    "final_prompt.format(input=\"How many people who travelled in 1st class did not survive?\", table_info=tables)"
   ]
  },
  {
   "cell_type": "code",
   "execution_count": 27,
   "id": "fde574c3-44b1-4593-a2d6-15e07a76ddf9",
   "metadata": {
    "scrolled": true
   },
   "outputs": [
    {
     "data": {
      "text/plain": [
       "'80'"
      ]
     },
     "execution_count": 27,
     "metadata": {},
     "output_type": "execute_result"
    }
   ],
   "source": [
    "from operator import itemgetter\n",
    "from langchain_core.output_parsers import StrOutputParser\n",
    "from langchain_core.prompts import PromptTemplate\n",
    "from langchain_core.runnables import RunnablePassthrough\n",
    "\n",
    "answer_prompt = PromptTemplate.from_template(\n",
    " \"\"\"Given the following user question, corresponding SQL query, and SQL result, answer the user question.\n",
    "\n",
    "Question: {question}\n",
    "SQL Query: {query}\n",
    "SQL Result: {result}\n",
    "Answer: \"\"\"\n",
    ")\n",
    "\n",
    "rephrase_answer = answer_prompt | llm | StrOutputParser()\n",
    "\n",
    "chain = (\n",
    " RunnablePassthrough.assign(query=create_sql_query_chain(llm, db))\n",
    "    .assign(query=modify_query)\n",
    "    .assign(result=itemgetter(\"query\") | execute_query) | rephrase_answer\n",
    ")\n",
    "\n",
    "chain.invoke({\"question\": \"How many people who travelled in 1st class did not survive?\"})"
   ]
  },
  {
   "cell_type": "markdown",
   "id": "b18c8b42-4d51-43d7-b6fc-86d268d8cc18",
   "metadata": {},
   "source": [
    "### Initialize tools for function calling"
   ]
  },
  {
   "cell_type": "code",
   "execution_count": 27,
   "id": "d037f0d0-0ae8-4415-a267-840d8f2af412",
   "metadata": {},
   "outputs": [],
   "source": [
    "SYSTEM_PROMPT = \"\"\"you are a python data scientist. you are given tasks to complete and you run python code to solve them.\n",
    "- the python code runs in jupyter notebook.\n",
    "- every time you call `execute_python` tool, the python code is executed in a separate cell. it's okay to multiple calls to `execute_python`.\n",
    "- display visualizations using matplotlib or any other visualization library directly in the notebook. don't worry about saving the visualizations to a file.\n",
    "- you have access to the internet and can make api requests.\n",
    "- you also have access to the filesystem and can read/write files.\n",
    "- you can install any pip package (if it exists) if you need to but the usual packages for data analysis are already preinstalled.\n",
    "- you can run any python code you want, everything is running in a secure sandbox environment\"\"\"\n",
    "\n",
    "\n",
    "tools = [\n",
    "  {\n",
    "    \"type\": \"function\",\n",
    "      \"function\": {\n",
    "        \"name\": \"execute_python\",\n",
    "        \"description\": \"Execute python code in a Jupyter notebook cell and returns any result, stdout, stderr, display_data, and error.\",\n",
    "        \"parameters\": {\n",
    "          \"type\": \"object\",\n",
    "          \"properties\": {\n",
    "            \"code\": {\n",
    "              \"type\": \"string\",\n",
    "              \"description\": \"The python code to execute in a single cell.\",\n",
    "            }\n",
    "          },\n",
    "          \"required\": [\"code\"],\n",
    "        },\n",
    "      },\n",
    "  }\n",
    "]"
   ]
  },
  {
   "cell_type": "code",
   "execution_count": 26,
   "id": "2660f32b-5d14-424d-a12c-c395bf97c1c3",
   "metadata": {},
   "outputs": [],
   "source": [
    "def code_interpret(e2b_code_interpreter, code):\n",
    "  print(\"Running code interpreter...\")\n",
    "  exec = e2b_code_interpreter.notebook.exec_cell(\n",
    "    code,\n",
    "    on_stderr=lambda stderr: print(\"[Code Interpreter]\", stderr),\n",
    "    on_stdout=lambda stdout: print(\"[Code Interpreter]\", stdout),\n",
    "    # You can also stream code execution results\n",
    "    # on_result=...\n",
    "  )\n",
    "\n",
    "  if exec.error:\n",
    "    print(\"[Code Interpreter ERROR]\", exec.error)\n",
    "  else:\n",
    "    return exec.results"
   ]
  },
  {
   "cell_type": "code",
   "execution_count": 25,
   "id": "020fb1c9-d13a-40df-a8d7-f20587acc8f5",
   "metadata": {},
   "outputs": [],
   "source": [
    "client = Groq(api_key=GROQ_API_KEY)\n",
    "\n",
    "def chat_with_llama(e2b_code_interpreter, user_message):\n",
    "  print(f\"\\n{'='*50}\\nUser message: {user_message}\\n{'='*50}\")\n",
    "\n",
    "  messages = [\n",
    "      {\"role\": \"system\", \"content\": SYSTEM_PROMPT},\n",
    "      {\"role\": \"user\", \"content\": user_message}\n",
    "  ]\n",
    "\n",
    "  response = client.chat.completions.create(\n",
    "      model=MODEL_NAME,\n",
    "      messages=messages,\n",
    "      tools=tools,\n",
    "      tool_choice=\"auto\",\n",
    "      max_tokens=4096,\n",
    "  )\n",
    "\n",
    "  print(response)\n",
    "\n",
    "  response_message = response.choices[0].message\n",
    "  tool_calls = response_message.tool_calls\n",
    "\n",
    "  if tool_calls:\n",
    "    for tool_call in tool_calls:\n",
    "      function_name = tool_call.function.name\n",
    "      function_args = json.loads(tool_call.function.arguments)\n",
    "      if function_name == \"execute_python\":\n",
    "        code = function_args[\"code\"]\n",
    "        code_interpreter_results = code_interpret(e2b_code_interpreter, code)\n",
    "        return code_interpreter_results\n",
    "      else:\n",
    "        raise Exception(f\"Unknown tool {function_name}\")\n",
    "  else:\n",
    "    print(f\"(No tool call in model's response) {response_message}\")\n",
    "    return []"
   ]
  },
  {
   "cell_type": "code",
   "execution_count": 31,
   "id": "b0872760-0c3f-4ad4-93f1-0fb3477afe83",
   "metadata": {
    "scrolled": true
   },
   "outputs": [
    {
     "name": "stdout",
     "output_type": "stream",
     "text": [
      "\n",
      "==================================================\n",
      "User message: Generate a visualization based on the SQL Query 'SELECT Pclass, COUNT(*) as SurvivedCount \n",
      "FROM \"Passenger Data\" \n",
      "WHERE Survived = 1 \n",
      "GROUP BY Pclass', the returned dataset '[(1, 136), (2, 87), (3, 119)]', and columns '['Pclass', 'SurvivedCount']'. Request a pie_chart to represent the data appropriately.\n",
      "==================================================\n",
      "ChatCompletion(id='chatcmpl-7f711a8c-d7cc-42c4-b80a-b73bc59a7f5d', choices=[Choice(finish_reason='tool_calls', index=0, logprobs=None, message=ChatCompletionMessage(content=None, role='assistant', function_call=None, tool_calls=[ChatCompletionMessageToolCall(id='call_7c2r', function=Function(arguments='{\"code\":\"import matplotlib.pyplot as plt\\\\nimport numpy as np\\\\n\\\\n# Dataset\\\\nPclass = [1, 2, 3]\\\\nSurvivedCount = [136, 87, 119]\\\\n\\\\n# Create pie chart\\\\nplt.pie(SurvivedCount, labels=Pclass, autopct=\\'%1.1f%%\\')\\\\nplt.title(\\'Survival Count by Pclass\\')\\\\nplt.show()\"}', name='execute_python'), type='function')]))], created=1717894028, model='llama3-70b-8192', object='chat.completion', system_fingerprint='fp_2f30b0b571', usage=CompletionUsage(completion_tokens=149, prompt_tokens=1183, total_tokens=1332, completion_time=0.441332519, prompt_time=0.450886053, queue_time=None, total_time=0.892218572), x_groq={'id': 'req_01hzx7d6nmff0skvajfw3mkq7g'})\n",
      "Running code interpreter...\n",
      "[Result(<Figure size 640x480 with 1 Axes>)]\n"
     ]
    },
    {
     "data": {
      "image/png": "[encoded data removed]",
      "text/plain": [
       "Result(<Figure size 640x480 with 1 Axes>)"
      ]
     },
     "execution_count": 31,
     "metadata": {},
     "output_type": "execute_result"
    }
   ],
   "source": [
    "visualization_function = \"pie_chart\"\n",
    "prompt =  f\"Generate a visualization based on the SQL Query '{query}', the returned dataset '{query_response}', and columns '{cols}'. Request a {visualization_function} to represent the data appropriately.\"\n",
    "\n",
    "with CodeInterpreter(api_key=E2B_API_KEY) as code_interpreter:\n",
    "    code_results = chat_with_llama(\n",
    "        code_interpreter,\n",
    "        prompt\n",
    "    )\n",
    "    if code_results:\n",
    "        print(code_results)\n",
    "        first_result = code_results[0]\n",
    "    else:\n",
    "        print(\"No code results\")\n",
    "        exit(0)\n",
    "\n",
    "# This will render the image\n",
    "# You can also access the data directly\n",
    "# first_result.png\n",
    "# first_result.jpg\n",
    "# first_result.pdf\n",
    "# ...\n",
    "first_result"
   ]
  }
 ],
 "metadata": {
  "kernelspec": {
   "display_name": "Python 3 (ipykernel)",
   "language": "python",
   "name": "python3"
  },
  "language_info": {
   "codemirror_mode": {
    "name": "ipython",
    "version": 3
   },
   "file_extension": ".py",
   "mimetype": "text/x-python",
   "name": "python",
   "nbconvert_exporter": "python",
   "pygments_lexer": "ipython3",
   "version": "3.11.9"
  }
 },
 "nbformat": 4,
 "nbformat_minor": 5
}
